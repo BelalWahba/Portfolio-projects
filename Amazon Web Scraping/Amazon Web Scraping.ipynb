{
 "cells": [
  {
   "cell_type": "markdown",
   "id": "22eedb02",
   "metadata": {},
   "source": [
    "## Importing Necessary Libraries"
   ]
  },
  {
   "cell_type": "code",
   "execution_count": 1,
   "id": "3fd03d8f",
   "metadata": {},
   "outputs": [],
   "source": [
    "import csv\n",
    "from bs4 import BeautifulSoup"
   ]
  },
  {
   "cell_type": "code",
   "execution_count": 2,
   "id": "28af5ce4",
   "metadata": {},
   "outputs": [
    {
     "name": "stderr",
     "output_type": "stream",
     "text": [
      "\n",
      "\n",
      "====== WebDriver manager ======\n",
      "Current firefox version is 98.0\n",
      "Get LATEST geckodriver version for 98.0 firefox\n",
      "Getting latest mozilla release info for v0.30.0\n",
      "Trying to download new driver from https://github.com/mozilla/geckodriver/releases/download/v0.30.0/geckodriver-v0.30.0-win64.zip\n",
      "Driver has been saved in cache [C:\\Users\\moh20\\.wdm\\drivers\\geckodriver\\win64\\v0.30.0]\n"
     ]
    }
   ],
   "source": [
    "# Importing the necessary libraries to automate the scraping process \n",
    "\n",
    "from selenium import webdriver\n",
    "from webdriver_manager.firefox import GeckoDriverManager\n",
    "\n",
    "driver = webdriver.Firefox(executable_path=GeckoDriverManager().install())"
   ]
  },
  {
   "cell_type": "code",
   "execution_count": 3,
   "id": "c0157e70",
   "metadata": {},
   "outputs": [],
   "source": [
    "# feeding the driver with the started address we are going to use\n",
    "\n",
    "url = \"https://www.amazon.com/\"\n",
    "driver.get(url)"
   ]
  },
  {
   "cell_type": "code",
   "execution_count": 4,
   "id": "46772b04",
   "metadata": {},
   "outputs": [],
   "source": [
    "# generating a url search term\n",
    "\n",
    "def get_url(search_term):\n",
    "    base_url = \"https://www.amazon.com/s?k={}&sprefix=ultra%2Caps%2C287&ref=nb_sb_ss_ts-doa-p_4_5\"\n",
    "    search_term = search_term.replace(' ', '+')\n",
    "    return base_url.format(search_term)"
   ]
  },
  {
   "cell_type": "code",
   "execution_count": 5,
   "id": "08fc8705",
   "metadata": {},
   "outputs": [
    {
     "name": "stdout",
     "output_type": "stream",
     "text": [
      "https://www.amazon.com/s?k=ultrawide+monitor&sprefix=ultra%2Caps%2C287&ref=nb_sb_ss_ts-doa-p_4_5\n"
     ]
    }
   ],
   "source": [
    "url = get_url('ultrawide monitor')\n",
    "print (url)"
   ]
  },
  {
   "cell_type": "code",
   "execution_count": 6,
   "id": "3150c92c",
   "metadata": {},
   "outputs": [],
   "source": [
    "driver.get(url)"
   ]
  },
  {
   "cell_type": "markdown",
   "id": "db0e57b5",
   "metadata": {},
   "source": [
    "## Extract the Content"
   ]
  },
  {
   "cell_type": "code",
   "execution_count": 7,
   "id": "12b55e10",
   "metadata": {},
   "outputs": [],
   "source": [
    "soup = BeautifulSoup(driver.page_source, 'html.parser')"
   ]
  },
  {
   "cell_type": "code",
   "execution_count": 8,
   "id": "d2cf1b37",
   "metadata": {},
   "outputs": [],
   "source": [
    "items = soup.find_all('div' ,{'data-component-type':'s-search-result'})"
   ]
  },
  {
   "cell_type": "code",
   "execution_count": 9,
   "id": "0137d34e",
   "metadata": {},
   "outputs": [
    {
     "data": {
      "text/plain": [
       "22"
      ]
     },
     "execution_count": 9,
     "metadata": {},
     "output_type": "execute_result"
    }
   ],
   "source": [
    "len(items)"
   ]
  },
  {
   "cell_type": "markdown",
   "id": "9cc1b69f",
   "metadata": {},
   "source": [
    "# Prototyping the Record"
   ]
  },
  {
   "cell_type": "code",
   "execution_count": 10,
   "id": "3ecd0bbf",
   "metadata": {},
   "outputs": [],
   "source": [
    "## getting the item name and the url \n",
    "\n",
    "item = items[0]\n",
    "atag = item.h2.a"
   ]
  },
  {
   "cell_type": "code",
   "execution_count": 11,
   "id": "8f511534",
   "metadata": {},
   "outputs": [
    {
     "name": "stdout",
     "output_type": "stream",
     "text": [
      "LG 34WK650-W 34\" UltraWide 21:9 IPS Monitor with HDR10 and FreeSync (2018), Black/White\n"
     ]
    }
   ],
   "source": [
    "description = atag.text.strip()\n",
    "print(description)"
   ]
  },
  {
   "cell_type": "code",
   "execution_count": 12,
   "id": "1e6e0e89",
   "metadata": {},
   "outputs": [],
   "source": [
    "item_url = 'https://www.amazon.com' + atag.get('href')"
   ]
  },
  {
   "cell_type": "code",
   "execution_count": 13,
   "id": "ba6914c4",
   "metadata": {},
   "outputs": [
    {
     "data": {
      "text/plain": [
       "'https://www.amazon.com/gp/slredirect/picassoRedirect.html/ref=pa_sp_atf_aps_sr_pg1_1?ie=UTF8&adId=A00020462TABCF6RA1T4T&url=%2FLG-34WK650-W-34-UltraWide-21%2Fdp%2FB078GSH1LV%2Fref%3Dsr_1_1_sspa%3Fkeywords%3Dultrawide%2Bmonitor%26qid%3D1648216607%26sprefix%3Dultra%252Caps%252C287%26sr%3D8-1-spons%26psc%3D1&qualifier=1648216607&id=7118712389588287&widgetName=sp_atf'"
      ]
     },
     "execution_count": 13,
     "metadata": {},
     "output_type": "execute_result"
    }
   ],
   "source": [
    "item_url"
   ]
  },
  {
   "cell_type": "code",
   "execution_count": 14,
   "id": "6365ecce",
   "metadata": {},
   "outputs": [],
   "source": [
    "## getting the item price"
   ]
  },
  {
   "cell_type": "code",
   "execution_count": 15,
   "id": "34b9ca3c",
   "metadata": {},
   "outputs": [],
   "source": [
    "item_price = item.find('span',{'class':'a-price'}).find('span',{'class':'a-offscreen'}).text"
   ]
  },
  {
   "cell_type": "code",
   "execution_count": 16,
   "id": "69aee651",
   "metadata": {},
   "outputs": [
    {
     "name": "stdout",
     "output_type": "stream",
     "text": [
      "$349.99\n"
     ]
    }
   ],
   "source": [
    "print(item_price)"
   ]
  },
  {
   "cell_type": "code",
   "execution_count": 17,
   "id": "f019506d",
   "metadata": {},
   "outputs": [],
   "source": [
    "## getting the item reviews and review count"
   ]
  },
  {
   "cell_type": "code",
   "execution_count": 18,
   "id": "aa1d55b4",
   "metadata": {},
   "outputs": [
    {
     "name": "stdout",
     "output_type": "stream",
     "text": [
      "4.6 out of 5 stars\n"
     ]
    }
   ],
   "source": [
    "item_review = item.i.text\n",
    "print (item_review)"
   ]
  },
  {
   "cell_type": "code",
   "execution_count": 19,
   "id": "09e42ebf",
   "metadata": {},
   "outputs": [
    {
     "data": {
      "text/plain": [
       "'1,397'"
      ]
     },
     "execution_count": 19,
     "metadata": {},
     "output_type": "execute_result"
    }
   ],
   "source": [
    "item_review_count = item.find('span',{'class':'a-size-base s-underline-text'}).text\n",
    "item_review_count"
   ]
  },
  {
   "cell_type": "markdown",
   "id": "87f059a4",
   "metadata": {},
   "source": [
    "## Generalizing The Pattern"
   ]
  },
  {
   "cell_type": "code",
   "execution_count": 20,
   "id": "a21f0ae2",
   "metadata": {},
   "outputs": [],
   "source": [
    "def extrac_records(item):\n",
    "    ## getting the item name and the url \n",
    "    atag = item.h2.a\n",
    "    description = atag.text.strip()\n",
    "    item_url = 'https://www.amazon.com' + atag.get('href')\n",
    "    \n",
    "    ## Getting The Price\n",
    "    item_price = item.find('span',{'class':'a-price'}).find('span',{'class':'a-offscreen'}).text\n",
    "    \n",
    "    ## Getting The Reviews\n",
    "    item_review = item.i.text\n",
    "    item_review_count = item.find('span',{'class':'a-size-base s-underline-text'}).text\n",
    "    \n",
    "    result = (description,item_price,item_review,item_review_count,item_url)\n",
    "    return result"
   ]
  },
  {
   "cell_type": "code",
   "execution_count": 21,
   "id": "233e1c37",
   "metadata": {},
   "outputs": [
    {
     "ename": "AttributeError",
     "evalue": "'NoneType' object has no attribute 'find'",
     "output_type": "error",
     "traceback": [
      "\u001b[1;31m---------------------------------------------------------------------------\u001b[0m",
      "\u001b[1;31mAttributeError\u001b[0m                            Traceback (most recent call last)",
      "\u001b[1;32m~\\AppData\\Local\\Temp/ipykernel_54164/1804229691.py\u001b[0m in \u001b[0;36m<module>\u001b[1;34m\u001b[0m\n\u001b[0;32m      3\u001b[0m \u001b[1;33m\u001b[0m\u001b[0m\n\u001b[0;32m      4\u001b[0m \u001b[1;32mfor\u001b[0m \u001b[0mitem\u001b[0m \u001b[1;32min\u001b[0m \u001b[0mitems\u001b[0m\u001b[1;33m:\u001b[0m\u001b[1;33m\u001b[0m\u001b[1;33m\u001b[0m\u001b[0m\n\u001b[1;32m----> 5\u001b[1;33m     \u001b[0mrecords\u001b[0m\u001b[1;33m.\u001b[0m\u001b[0mappend\u001b[0m\u001b[1;33m(\u001b[0m\u001b[0mextrac_records\u001b[0m\u001b[1;33m(\u001b[0m\u001b[0mitem\u001b[0m\u001b[1;33m)\u001b[0m\u001b[1;33m)\u001b[0m\u001b[1;33m\u001b[0m\u001b[1;33m\u001b[0m\u001b[0m\n\u001b[0m",
      "\u001b[1;32m~\\AppData\\Local\\Temp/ipykernel_54164/3955984028.py\u001b[0m in \u001b[0;36mextrac_records\u001b[1;34m(item)\u001b[0m\n\u001b[0;32m      6\u001b[0m \u001b[1;33m\u001b[0m\u001b[0m\n\u001b[0;32m      7\u001b[0m     \u001b[1;31m## Getting The Price\u001b[0m\u001b[1;33m\u001b[0m\u001b[1;33m\u001b[0m\u001b[0m\n\u001b[1;32m----> 8\u001b[1;33m     \u001b[0mitem_price\u001b[0m \u001b[1;33m=\u001b[0m \u001b[0mitem\u001b[0m\u001b[1;33m.\u001b[0m\u001b[0mfind\u001b[0m\u001b[1;33m(\u001b[0m\u001b[1;34m'span'\u001b[0m\u001b[1;33m,\u001b[0m\u001b[1;33m{\u001b[0m\u001b[1;34m'class'\u001b[0m\u001b[1;33m:\u001b[0m\u001b[1;34m'a-price'\u001b[0m\u001b[1;33m}\u001b[0m\u001b[1;33m)\u001b[0m\u001b[1;33m.\u001b[0m\u001b[0mfind\u001b[0m\u001b[1;33m(\u001b[0m\u001b[1;34m'span'\u001b[0m\u001b[1;33m,\u001b[0m\u001b[1;33m{\u001b[0m\u001b[1;34m'class'\u001b[0m\u001b[1;33m:\u001b[0m\u001b[1;34m'a-offscreen'\u001b[0m\u001b[1;33m}\u001b[0m\u001b[1;33m)\u001b[0m\u001b[1;33m.\u001b[0m\u001b[0mtext\u001b[0m\u001b[1;33m\u001b[0m\u001b[1;33m\u001b[0m\u001b[0m\n\u001b[0m\u001b[0;32m      9\u001b[0m \u001b[1;33m\u001b[0m\u001b[0m\n\u001b[0;32m     10\u001b[0m     \u001b[1;31m## Getting The Reviews\u001b[0m\u001b[1;33m\u001b[0m\u001b[1;33m\u001b[0m\u001b[0m\n",
      "\u001b[1;31mAttributeError\u001b[0m: 'NoneType' object has no attribute 'find'"
     ]
    }
   ],
   "source": [
    "records = []\n",
    "items = soup.find_all('div' ,{'data-component-type':'s-search-result'})\n",
    "\n",
    "for item in items:\n",
    "    records.append(extrac_records(item))"
   ]
  },
  {
   "cell_type": "code",
   "execution_count": 22,
   "id": "e444f749",
   "metadata": {},
   "outputs": [],
   "source": [
    "## As u can see there will be errors with the no attribute type \n",
    "## Basically what that means is that there are missing information \n",
    "## in some of the records so we will need to handle these errors\n"
   ]
  },
  {
   "cell_type": "markdown",
   "id": "a4a3becc",
   "metadata": {},
   "source": [
    "## Error Handling "
   ]
  },
  {
   "cell_type": "code",
   "execution_count": 23,
   "id": "768c50ac",
   "metadata": {},
   "outputs": [],
   "source": [
    "def extrac_records(item):\n",
    "    ## getting the item name and the url \n",
    "    atag = item.h2.a\n",
    "    description = atag.text.strip()\n",
    "    item_url = 'https://www.amazon.com' + atag.get('href')\n",
    "    \n",
    "    ## Getting The Price\n",
    "    try:\n",
    "        item_price = item.find('span',{'class':'a-price'}).find('span',{'class':'a-offscreen'}).text\n",
    "    except AttributeError:\n",
    "        return\n",
    "    \n",
    "    ## Getting The Reviews\n",
    "    try:\n",
    "        item_review = item.i.text\n",
    "        item_review_count = item.find('span',{'class':'a-size-base s-underline-text'}).text\n",
    "    except AttributeError:\n",
    "        item_review = ' '\n",
    "        item_review_count = ' '\n",
    "    \n",
    "    \n",
    "    result = (description,item_price,item_review,item_review_count,item_url)\n",
    "    return result"
   ]
  },
  {
   "cell_type": "code",
   "execution_count": 24,
   "id": "d8eafa47",
   "metadata": {},
   "outputs": [],
   "source": [
    "records = []\n",
    "items = soup.find_all('div' ,{'data-component-type':'s-search-result'})\n",
    "\n",
    "for item in items:\n",
    "    record = extrac_records(item)\n",
    "    if record:\n",
    "        records.append(record) "
   ]
  },
  {
   "cell_type": "code",
   "execution_count": 25,
   "id": "5c0c6ec7",
   "metadata": {},
   "outputs": [
    {
     "data": {
      "text/plain": [
       "('LG 34WK650-W 34\" UltraWide 21:9 IPS Monitor with HDR10 and FreeSync (2018), Black/White',\n",
       " '$349.99',\n",
       " '4.6 out of 5 stars',\n",
       " '1,397',\n",
       " 'https://www.amazon.com/gp/slredirect/picassoRedirect.html/ref=pa_sp_atf_aps_sr_pg1_1?ie=UTF8&adId=A00020462TABCF6RA1T4T&url=%2FLG-34WK650-W-34-UltraWide-21%2Fdp%2FB078GSH1LV%2Fref%3Dsr_1_1_sspa%3Fkeywords%3Dultrawide%2Bmonitor%26qid%3D1648216607%26sprefix%3Dultra%252Caps%252C287%26sr%3D8-1-spons%26psc%3D1&qualifier=1648216607&id=7118712389588287&widgetName=sp_atf')"
      ]
     },
     "execution_count": 25,
     "metadata": {},
     "output_type": "execute_result"
    }
   ],
   "source": [
    "records[0]"
   ]
  },
  {
   "cell_type": "markdown",
   "id": "031c0872",
   "metadata": {},
   "source": [
    "## Getting The Next Page"
   ]
  },
  {
   "cell_type": "code",
   "execution_count": 26,
   "id": "2b313e1f",
   "metadata": {},
   "outputs": [],
   "source": [
    "#There are multiple ways of doing this but for the sake of simplicity and\n",
    "#avoiding unnecessary automation we will just add the page query to the url "
   ]
  },
  {
   "cell_type": "code",
   "execution_count": 27,
   "id": "1c3bb53a",
   "metadata": {},
   "outputs": [],
   "source": [
    "# generating a url search term\n",
    "\n",
    "def get_url(search_term):\n",
    "    base_url = \"https://www.amazon.com/s?k={}&sprefix=ultra%2Caps%2C287&ref=nb_sb_ss_ts-doa-p_4_5\"\n",
    "    search_term = search_term.replace(' ', '+')\n",
    "    url = base_url.format(search_term)\n",
    "    url += '&page{}'\n",
    "    return url"
   ]
  },
  {
   "cell_type": "markdown",
   "id": "6ffa1f46",
   "metadata": {},
   "source": [
    "# Putting it all together"
   ]
  },
  {
   "cell_type": "code",
   "execution_count": 28,
   "id": "f55d8ddb",
   "metadata": {},
   "outputs": [],
   "source": [
    "import csv\n",
    "from bs4 import BeautifulSoup\n",
    "from selenium import webdriver\n",
    "from webdriver_manager.firefox import GeckoDriverManager\n",
    "\n",
    "\n",
    "\n",
    "# generating a url search term\n",
    "\n",
    "def get_url(search_term):\n",
    "    base_url = \"https://www.amazon.com/s?k={}&sprefix=ultra%2Caps%2C287&ref=nb_sb_ss_ts-doa-p_4_5\"\n",
    "    search_term = search_term.replace(' ', '+')\n",
    "    url = base_url.format(search_term)\n",
    "    url += '&page{}'\n",
    "    return url\n",
    "\n",
    "\n",
    "def extrac_records(item):\n",
    "    ## getting the item name and the url \n",
    "    atag = item.h2.a\n",
    "    description = atag.text.strip()\n",
    "    item_url = 'https://www.amazon.com' + atag.get('href')\n",
    "    \n",
    "    ## Getting The Price\n",
    "    try:\n",
    "        item_price = item.find('span',{'class':'a-price'}).find('span',{'class':'a-offscreen'}).text\n",
    "    except AttributeError:\n",
    "        return\n",
    "    \n",
    "    ## Getting The Reviews\n",
    "    try:\n",
    "        item_review = item.i.text\n",
    "        item_review_count = item.find('span',{'class':'a-size-base s-underline-text'}).text\n",
    "    except AttributeError:\n",
    "        item_review = ' '\n",
    "        item_review_count = ' '\n",
    "    \n",
    "    \n",
    "    result = (description,item_price,item_review,item_review_count,item_url)\n",
    "    return result\n",
    "\n",
    "\n",
    "\n",
    "def main(search_term):    \n",
    "    driver = webdriver.Firefox(executable_path=GeckoDriverManager().install())\n",
    "    \n",
    "    records = []\n",
    "    url = get_url(search_term)\n",
    "    \n",
    "    for page in range(1,21):\n",
    "        driver.get(url.format(page))\n",
    "        soup = BeautifulSoup(driver.page_source,'html.parser')\n",
    "        items = soup.find_all('div' ,{'data-component-type':'s-search-result'})\n",
    "        for item in items:\n",
    "            record = extrac_records(item)\n",
    "            if record:\n",
    "                records.append(record)\n",
    "    driver.close()\n",
    "    \n",
    "    # Save the data to csv\n",
    "    with open(r'D:\\Data Analysis projects\\Python\\Amazon Web Scraping\\DataExported\\amazondata.csv' , 'w', newline='', encoding='utf-8') as f:\n",
    "        writer = csv.writer(f)\n",
    "        writer.writerow(['Description','Price','Review','Review Count','URL'])\n",
    "        writer.writerows(records)"
   ]
  },
  {
   "cell_type": "code",
   "execution_count": 29,
   "id": "b1c76776",
   "metadata": {},
   "outputs": [
    {
     "name": "stderr",
     "output_type": "stream",
     "text": [
      "\n",
      "\n",
      "====== WebDriver manager ======\n",
      "Current firefox version is 98.0\n",
      "Get LATEST geckodriver version for 98.0 firefox\n",
      "Driver [C:\\Users\\moh20\\.wdm\\drivers\\geckodriver\\win64\\v0.30.0\\geckodriver.exe] found in cache\n"
     ]
    }
   ],
   "source": [
    "main('ultrawide monitor')"
   ]
  },
  {
   "cell_type": "code",
   "execution_count": null,
   "id": "eacbb7cb",
   "metadata": {},
   "outputs": [],
   "source": []
  },
  {
   "cell_type": "code",
   "execution_count": null,
   "id": "f3032061",
   "metadata": {},
   "outputs": [],
   "source": []
  },
  {
   "cell_type": "code",
   "execution_count": null,
   "id": "94f773b5",
   "metadata": {},
   "outputs": [],
   "source": []
  }
 ],
 "metadata": {
  "kernelspec": {
   "display_name": "Python 3 (ipykernel)",
   "language": "python",
   "name": "python3"
  },
  "language_info": {
   "codemirror_mode": {
    "name": "ipython",
    "version": 3
   },
   "file_extension": ".py",
   "mimetype": "text/x-python",
   "name": "python",
   "nbconvert_exporter": "python",
   "pygments_lexer": "ipython3",
   "version": "3.9.7"
  }
 },
 "nbformat": 4,
 "nbformat_minor": 5
}
